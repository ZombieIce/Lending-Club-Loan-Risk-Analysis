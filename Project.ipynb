{
 "cells": [
  {
   "cell_type": "markdown",
   "metadata": {},
   "source": [
    "# Appendix I - Model Code\n",
    "## 1. RandomForest"
   ]
  },
  {
   "cell_type": "code",
   "execution_count": 1,
   "metadata": {},
   "outputs": [],
   "source": [
    "# import package to process data and machine learning\n",
    "import numpy as np\n",
    "import pandas as pd\n",
    "from sklearn.preprocessing import LabelEncoder, OneHotEncoder\n",
    "from sklearn import metrics\n",
    "from sklearn.metrics import plot_confusion_matrix\n",
    "import matplotlib.pyplot as plt\n",
    "from sklearn.metrics import roc_curve\n",
    "from sklearn.metrics import auc"
   ]
  },
  {
   "cell_type": "code",
   "execution_count": 2,
   "metadata": {},
   "outputs": [
    {
     "data": {
      "text/html": [
       "<div>\n",
       "<style scoped>\n",
       "    .dataframe tbody tr th:only-of-type {\n",
       "        vertical-align: middle;\n",
       "    }\n",
       "\n",
       "    .dataframe tbody tr th {\n",
       "        vertical-align: top;\n",
       "    }\n",
       "\n",
       "    .dataframe thead th {\n",
       "        text-align: right;\n",
       "    }\n",
       "</style>\n",
       "<table border=\"1\" class=\"dataframe\">\n",
       "  <thead>\n",
       "    <tr style=\"text-align: right;\">\n",
       "      <th></th>\n",
       "      <th>id</th>\n",
       "      <th>member_id</th>\n",
       "      <th>loan_amnt</th>\n",
       "      <th>funded_amnt</th>\n",
       "      <th>funded_amnt_inv</th>\n",
       "      <th>term</th>\n",
       "      <th>int_rate</th>\n",
       "      <th>installment</th>\n",
       "      <th>grade</th>\n",
       "      <th>sub_grade</th>\n",
       "      <th>...</th>\n",
       "      <th>hardship_payoff_balance_amount</th>\n",
       "      <th>hardship_last_payment_amount</th>\n",
       "      <th>disbursement_method</th>\n",
       "      <th>debt_settlement_flag</th>\n",
       "      <th>debt_settlement_flag_date</th>\n",
       "      <th>settlement_status</th>\n",
       "      <th>settlement_date</th>\n",
       "      <th>settlement_amount</th>\n",
       "      <th>settlement_percentage</th>\n",
       "      <th>settlement_term</th>\n",
       "    </tr>\n",
       "  </thead>\n",
       "  <tbody>\n",
       "    <tr>\n",
       "      <th>0</th>\n",
       "      <td>NaN</td>\n",
       "      <td>NaN</td>\n",
       "      <td>35000</td>\n",
       "      <td>35000</td>\n",
       "      <td>34975.0</td>\n",
       "      <td>60 months</td>\n",
       "      <td>0.1171</td>\n",
       "      <td>773.44</td>\n",
       "      <td>B</td>\n",
       "      <td>B3</td>\n",
       "      <td>...</td>\n",
       "      <td>NaN</td>\n",
       "      <td>NaN</td>\n",
       "      <td>Cash</td>\n",
       "      <td>N</td>\n",
       "      <td>NaT</td>\n",
       "      <td>NaN</td>\n",
       "      <td>NaT</td>\n",
       "      <td>NaN</td>\n",
       "      <td>NaN</td>\n",
       "      <td>NaN</td>\n",
       "    </tr>\n",
       "    <tr>\n",
       "      <th>1</th>\n",
       "      <td>NaN</td>\n",
       "      <td>NaN</td>\n",
       "      <td>9500</td>\n",
       "      <td>9500</td>\n",
       "      <td>9500.0</td>\n",
       "      <td>36 months</td>\n",
       "      <td>0.1465</td>\n",
       "      <td>327.70</td>\n",
       "      <td>C</td>\n",
       "      <td>C3</td>\n",
       "      <td>...</td>\n",
       "      <td>NaN</td>\n",
       "      <td>NaN</td>\n",
       "      <td>Cash</td>\n",
       "      <td>N</td>\n",
       "      <td>NaT</td>\n",
       "      <td>NaN</td>\n",
       "      <td>NaT</td>\n",
       "      <td>NaN</td>\n",
       "      <td>NaN</td>\n",
       "      <td>NaN</td>\n",
       "    </tr>\n",
       "    <tr>\n",
       "      <th>2</th>\n",
       "      <td>NaN</td>\n",
       "      <td>NaN</td>\n",
       "      <td>3800</td>\n",
       "      <td>3800</td>\n",
       "      <td>3800.0</td>\n",
       "      <td>36 months</td>\n",
       "      <td>0.0751</td>\n",
       "      <td>118.23</td>\n",
       "      <td>A</td>\n",
       "      <td>A3</td>\n",
       "      <td>...</td>\n",
       "      <td>NaN</td>\n",
       "      <td>NaN</td>\n",
       "      <td>Cash</td>\n",
       "      <td>N</td>\n",
       "      <td>NaT</td>\n",
       "      <td>NaN</td>\n",
       "      <td>NaT</td>\n",
       "      <td>NaN</td>\n",
       "      <td>NaN</td>\n",
       "      <td>NaN</td>\n",
       "    </tr>\n",
       "    <tr>\n",
       "      <th>3</th>\n",
       "      <td>NaN</td>\n",
       "      <td>NaN</td>\n",
       "      <td>12400</td>\n",
       "      <td>12400</td>\n",
       "      <td>12400.0</td>\n",
       "      <td>60 months</td>\n",
       "      <td>0.2206</td>\n",
       "      <td>342.90</td>\n",
       "      <td>F</td>\n",
       "      <td>F4</td>\n",
       "      <td>...</td>\n",
       "      <td>NaN</td>\n",
       "      <td>NaN</td>\n",
       "      <td>Cash</td>\n",
       "      <td>N</td>\n",
       "      <td>NaT</td>\n",
       "      <td>NaN</td>\n",
       "      <td>NaT</td>\n",
       "      <td>NaN</td>\n",
       "      <td>NaN</td>\n",
       "      <td>NaN</td>\n",
       "    </tr>\n",
       "    <tr>\n",
       "      <th>4</th>\n",
       "      <td>NaN</td>\n",
       "      <td>NaN</td>\n",
       "      <td>4000</td>\n",
       "      <td>4000</td>\n",
       "      <td>4000.0</td>\n",
       "      <td>60 months</td>\n",
       "      <td>0.1727</td>\n",
       "      <td>100.00</td>\n",
       "      <td>D</td>\n",
       "      <td>D3</td>\n",
       "      <td>...</td>\n",
       "      <td>NaN</td>\n",
       "      <td>NaN</td>\n",
       "      <td>Cash</td>\n",
       "      <td>N</td>\n",
       "      <td>NaT</td>\n",
       "      <td>NaN</td>\n",
       "      <td>NaT</td>\n",
       "      <td>NaN</td>\n",
       "      <td>NaN</td>\n",
       "      <td>NaN</td>\n",
       "    </tr>\n",
       "  </tbody>\n",
       "</table>\n",
       "<p>5 rows × 145 columns</p>\n",
       "</div>"
      ],
      "text/plain": [
       "   id  member_id  loan_amnt  funded_amnt  funded_amnt_inv        term  \\\n",
       "0 NaN        NaN      35000        35000          34975.0   60 months   \n",
       "1 NaN        NaN       9500         9500           9500.0   36 months   \n",
       "2 NaN        NaN       3800         3800           3800.0   36 months   \n",
       "3 NaN        NaN      12400        12400          12400.0   60 months   \n",
       "4 NaN        NaN       4000         4000           4000.0   60 months   \n",
       "\n",
       "   int_rate  installment grade sub_grade  ... hardship_payoff_balance_amount  \\\n",
       "0    0.1171       773.44     B        B3  ...                            NaN   \n",
       "1    0.1465       327.70     C        C3  ...                            NaN   \n",
       "2    0.0751       118.23     A        A3  ...                            NaN   \n",
       "3    0.2206       342.90     F        F4  ...                            NaN   \n",
       "4    0.1727       100.00     D        D3  ...                            NaN   \n",
       "\n",
       "  hardship_last_payment_amount disbursement_method  debt_settlement_flag  \\\n",
       "0                          NaN                Cash                     N   \n",
       "1                          NaN                Cash                     N   \n",
       "2                          NaN                Cash                     N   \n",
       "3                          NaN                Cash                     N   \n",
       "4                          NaN                Cash                     N   \n",
       "\n",
       "  debt_settlement_flag_date settlement_status settlement_date  \\\n",
       "0                       NaT               NaN             NaT   \n",
       "1                       NaT               NaN             NaT   \n",
       "2                       NaT               NaN             NaT   \n",
       "3                       NaT               NaN             NaT   \n",
       "4                       NaT               NaN             NaT   \n",
       "\n",
       "  settlement_amount  settlement_percentage settlement_term  \n",
       "0               NaN                    NaN             NaN  \n",
       "1               NaN                    NaN             NaN  \n",
       "2               NaN                    NaN             NaN  \n",
       "3               NaN                    NaN             NaN  \n",
       "4               NaN                    NaN             NaN  \n",
       "\n",
       "[5 rows x 145 columns]"
      ]
     },
     "execution_count": 2,
     "metadata": {},
     "output_type": "execute_result"
    }
   ],
   "source": [
    "# read data from file\n",
    "df = pd.read_excel('LendingClubData_training.xlsx')\n",
    "df_test_original = pd.read_excel('LendingClubData_testing.xlsx')\n",
    "df.head()"
   ]
  },
  {
   "cell_type": "code",
   "execution_count": 3,
   "metadata": {},
   "outputs": [],
   "source": [
    "# according to data analysis to determine useful features\n",
    "useful_columns = ['loan_amnt', 'sub_grade', 'term', 'home_ownership', 'annual_inc',\n",
    "                  'verification_status', 'dti', 'open_acc', 'inq_last_6mths', 'purpose',\n",
    "                  'revol_util', 'loan_status']\n",
    "parameters = ['loan_amnt', 'sub_grade', 'term', 'home_ownership','annual_inc', 'purpose', 'revol_util',\n",
    "                  'verification_status', 'dti', 'open_acc', 'inq_last_6mths']"
   ]
  },
  {
   "cell_type": "code",
   "execution_count": 4,
   "metadata": {},
   "outputs": [
    {
     "name": "stderr",
     "output_type": "stream",
     "text": [
      "/Users/zhangyibin/anaconda3/lib/python3.7/site-packages/ipykernel_launcher.py:3: SettingWithCopyWarning: \n",
      "A value is trying to be set on a copy of a slice from a DataFrame\n",
      "\n",
      "See the caveats in the documentation: http://pandas.pydata.org/pandas-docs/stable/user_guide/indexing.html#returning-a-view-versus-a-copy\n",
      "  This is separate from the ipykernel package so we can avoid doing imports until\n"
     ]
    }
   ],
   "source": [
    "# drop missing data, low proportion\n",
    "df_train = df[useful_columns]\n",
    "df_train.dropna(inplace=True)"
   ]
  },
  {
   "cell_type": "code",
   "execution_count": 5,
   "metadata": {},
   "outputs": [],
   "source": [
    "# drop features which are not in test data set\n",
    "df_train = df_train[~df_train['purpose'].str.contains('educational')]\n",
    "df_train = df_train[~df_train['home_ownership'].str.contains('NONE')]\n",
    "df_train = df_train[~df_train['home_ownership'].str.contains('OTHER')]"
   ]
  },
  {
   "cell_type": "code",
   "execution_count": 6,
   "metadata": {
    "scrolled": true
   },
   "outputs": [
    {
     "data": {
      "text/html": [
       "<div>\n",
       "<style scoped>\n",
       "    .dataframe tbody tr th:only-of-type {\n",
       "        vertical-align: middle;\n",
       "    }\n",
       "\n",
       "    .dataframe tbody tr th {\n",
       "        vertical-align: top;\n",
       "    }\n",
       "\n",
       "    .dataframe thead th {\n",
       "        text-align: right;\n",
       "    }\n",
       "</style>\n",
       "<table border=\"1\" class=\"dataframe\">\n",
       "  <thead>\n",
       "    <tr style=\"text-align: right;\">\n",
       "      <th></th>\n",
       "      <th>loan_amnt</th>\n",
       "      <th>sub_grade</th>\n",
       "      <th>term</th>\n",
       "      <th>home_ownership</th>\n",
       "      <th>annual_inc</th>\n",
       "      <th>verification_status</th>\n",
       "      <th>dti</th>\n",
       "      <th>open_acc</th>\n",
       "      <th>inq_last_6mths</th>\n",
       "      <th>purpose</th>\n",
       "      <th>revol_util</th>\n",
       "      <th>loan_status</th>\n",
       "    </tr>\n",
       "  </thead>\n",
       "  <tbody>\n",
       "    <tr>\n",
       "      <th>0</th>\n",
       "      <td>35000</td>\n",
       "      <td>B3</td>\n",
       "      <td>60 months</td>\n",
       "      <td>MORTGAGE</td>\n",
       "      <td>110000.0</td>\n",
       "      <td>Verified</td>\n",
       "      <td>1.06</td>\n",
       "      <td>10</td>\n",
       "      <td>0</td>\n",
       "      <td>small_business</td>\n",
       "      <td>0.064</td>\n",
       "      <td>Charged Off</td>\n",
       "    </tr>\n",
       "    <tr>\n",
       "      <th>1</th>\n",
       "      <td>9500</td>\n",
       "      <td>C3</td>\n",
       "      <td>36 months</td>\n",
       "      <td>RENT</td>\n",
       "      <td>54000.0</td>\n",
       "      <td>Verified</td>\n",
       "      <td>17.69</td>\n",
       "      <td>6</td>\n",
       "      <td>1</td>\n",
       "      <td>other</td>\n",
       "      <td>0.853</td>\n",
       "      <td>Fully Paid</td>\n",
       "    </tr>\n",
       "    <tr>\n",
       "      <th>2</th>\n",
       "      <td>3800</td>\n",
       "      <td>A3</td>\n",
       "      <td>36 months</td>\n",
       "      <td>MORTGAGE</td>\n",
       "      <td>47000.0</td>\n",
       "      <td>Source Verified</td>\n",
       "      <td>22.52</td>\n",
       "      <td>10</td>\n",
       "      <td>3</td>\n",
       "      <td>car</td>\n",
       "      <td>0.393</td>\n",
       "      <td>Charged Off</td>\n",
       "    </tr>\n",
       "    <tr>\n",
       "      <th>3</th>\n",
       "      <td>12400</td>\n",
       "      <td>F4</td>\n",
       "      <td>60 months</td>\n",
       "      <td>OWN</td>\n",
       "      <td>65004.0</td>\n",
       "      <td>Source Verified</td>\n",
       "      <td>6.26</td>\n",
       "      <td>11</td>\n",
       "      <td>3</td>\n",
       "      <td>debt_consolidation</td>\n",
       "      <td>0.775</td>\n",
       "      <td>Charged Off</td>\n",
       "    </tr>\n",
       "    <tr>\n",
       "      <th>4</th>\n",
       "      <td>4000</td>\n",
       "      <td>D3</td>\n",
       "      <td>60 months</td>\n",
       "      <td>RENT</td>\n",
       "      <td>45000.0</td>\n",
       "      <td>Source Verified</td>\n",
       "      <td>7.37</td>\n",
       "      <td>10</td>\n",
       "      <td>0</td>\n",
       "      <td>other</td>\n",
       "      <td>0.825</td>\n",
       "      <td>Charged Off</td>\n",
       "    </tr>\n",
       "  </tbody>\n",
       "</table>\n",
       "</div>"
      ],
      "text/plain": [
       "   loan_amnt sub_grade        term home_ownership  annual_inc  \\\n",
       "0      35000        B3   60 months       MORTGAGE    110000.0   \n",
       "1       9500        C3   36 months           RENT     54000.0   \n",
       "2       3800        A3   36 months       MORTGAGE     47000.0   \n",
       "3      12400        F4   60 months            OWN     65004.0   \n",
       "4       4000        D3   60 months           RENT     45000.0   \n",
       "\n",
       "  verification_status    dti  open_acc  inq_last_6mths             purpose  \\\n",
       "0            Verified   1.06        10               0      small_business   \n",
       "1            Verified  17.69         6               1               other   \n",
       "2     Source Verified  22.52        10               3                 car   \n",
       "3     Source Verified   6.26        11               3  debt_consolidation   \n",
       "4     Source Verified   7.37        10               0               other   \n",
       "\n",
       "   revol_util  loan_status  \n",
       "0       0.064  Charged Off  \n",
       "1       0.853   Fully Paid  \n",
       "2       0.393  Charged Off  \n",
       "3       0.775  Charged Off  \n",
       "4       0.825  Charged Off  "
      ]
     },
     "execution_count": 6,
     "metadata": {},
     "output_type": "execute_result"
    }
   ],
   "source": [
    "df_train.head()"
   ]
  },
  {
   "cell_type": "code",
   "execution_count": 7,
   "metadata": {},
   "outputs": [],
   "source": [
    "# change targe value into (0, 1)\n",
    "dic = {'Charged Off':0, 'Fully Paid': 1}\n",
    "df_train['loan_status'].replace(dic, inplace=True)"
   ]
  },
  {
   "cell_type": "code",
   "execution_count": 8,
   "metadata": {},
   "outputs": [],
   "source": [
    "# one-hot encoding transform categorical parameters into vectors, normalize numerical parameters\n",
    "X_original_train = pd.get_dummies(df_train[parameters])\n",
    "\n",
    "loan_amnt_max = X_original_train['loan_amnt'].max()\n",
    "loan_amnt_min = X_original_train['loan_amnt'].min()\n",
    "\n",
    "annul_inc_max = X_original_train['annual_inc'].max()\n",
    "annul_inc_min = X_original_train['annual_inc'].min()\n",
    "\n",
    "X_original_train['loan_amnt'] = (X_original_train['loan_amnt'] - loan_amnt_min)/(loan_amnt_max - loan_amnt_min)\n",
    "X_original_train['annual_inc'] = (X_original_train['annual_inc'] - annul_inc_min)/(annul_inc_max - annul_inc_min)\n",
    "Y_original_train = df_train['loan_status']"
   ]
  },
  {
   "cell_type": "code",
   "execution_count": 9,
   "metadata": {},
   "outputs": [
    {
     "data": {
      "text/html": [
       "<div>\n",
       "<style scoped>\n",
       "    .dataframe tbody tr th:only-of-type {\n",
       "        vertical-align: middle;\n",
       "    }\n",
       "\n",
       "    .dataframe tbody tr th {\n",
       "        vertical-align: top;\n",
       "    }\n",
       "\n",
       "    .dataframe thead th {\n",
       "        text-align: right;\n",
       "    }\n",
       "</style>\n",
       "<table border=\"1\" class=\"dataframe\">\n",
       "  <thead>\n",
       "    <tr style=\"text-align: right;\">\n",
       "      <th></th>\n",
       "      <th>loan_amnt</th>\n",
       "      <th>annual_inc</th>\n",
       "      <th>revol_util</th>\n",
       "      <th>dti</th>\n",
       "      <th>open_acc</th>\n",
       "      <th>inq_last_6mths</th>\n",
       "      <th>sub_grade_A1</th>\n",
       "      <th>sub_grade_A2</th>\n",
       "      <th>sub_grade_A3</th>\n",
       "      <th>sub_grade_A4</th>\n",
       "      <th>...</th>\n",
       "      <th>purpose_medical</th>\n",
       "      <th>purpose_moving</th>\n",
       "      <th>purpose_other</th>\n",
       "      <th>purpose_renewable_energy</th>\n",
       "      <th>purpose_small_business</th>\n",
       "      <th>purpose_vacation</th>\n",
       "      <th>purpose_wedding</th>\n",
       "      <th>verification_status_Not Verified</th>\n",
       "      <th>verification_status_Source Verified</th>\n",
       "      <th>verification_status_Verified</th>\n",
       "    </tr>\n",
       "  </thead>\n",
       "  <tbody>\n",
       "    <tr>\n",
       "      <th>0</th>\n",
       "      <td>1.000000</td>\n",
       "      <td>0.017665</td>\n",
       "      <td>0.064</td>\n",
       "      <td>1.06</td>\n",
       "      <td>10</td>\n",
       "      <td>0</td>\n",
       "      <td>0</td>\n",
       "      <td>0</td>\n",
       "      <td>0</td>\n",
       "      <td>0</td>\n",
       "      <td>...</td>\n",
       "      <td>0</td>\n",
       "      <td>0</td>\n",
       "      <td>0</td>\n",
       "      <td>0</td>\n",
       "      <td>1</td>\n",
       "      <td>0</td>\n",
       "      <td>0</td>\n",
       "      <td>0</td>\n",
       "      <td>0</td>\n",
       "      <td>1</td>\n",
       "    </tr>\n",
       "    <tr>\n",
       "      <th>1</th>\n",
       "      <td>0.260870</td>\n",
       "      <td>0.008326</td>\n",
       "      <td>0.853</td>\n",
       "      <td>17.69</td>\n",
       "      <td>6</td>\n",
       "      <td>1</td>\n",
       "      <td>0</td>\n",
       "      <td>0</td>\n",
       "      <td>0</td>\n",
       "      <td>0</td>\n",
       "      <td>...</td>\n",
       "      <td>0</td>\n",
       "      <td>0</td>\n",
       "      <td>1</td>\n",
       "      <td>0</td>\n",
       "      <td>0</td>\n",
       "      <td>0</td>\n",
       "      <td>0</td>\n",
       "      <td>0</td>\n",
       "      <td>0</td>\n",
       "      <td>1</td>\n",
       "    </tr>\n",
       "    <tr>\n",
       "      <th>2</th>\n",
       "      <td>0.095652</td>\n",
       "      <td>0.007158</td>\n",
       "      <td>0.393</td>\n",
       "      <td>22.52</td>\n",
       "      <td>10</td>\n",
       "      <td>3</td>\n",
       "      <td>0</td>\n",
       "      <td>0</td>\n",
       "      <td>1</td>\n",
       "      <td>0</td>\n",
       "      <td>...</td>\n",
       "      <td>0</td>\n",
       "      <td>0</td>\n",
       "      <td>0</td>\n",
       "      <td>0</td>\n",
       "      <td>0</td>\n",
       "      <td>0</td>\n",
       "      <td>0</td>\n",
       "      <td>0</td>\n",
       "      <td>1</td>\n",
       "      <td>0</td>\n",
       "    </tr>\n",
       "    <tr>\n",
       "      <th>3</th>\n",
       "      <td>0.344928</td>\n",
       "      <td>0.010161</td>\n",
       "      <td>0.775</td>\n",
       "      <td>6.26</td>\n",
       "      <td>11</td>\n",
       "      <td>3</td>\n",
       "      <td>0</td>\n",
       "      <td>0</td>\n",
       "      <td>0</td>\n",
       "      <td>0</td>\n",
       "      <td>...</td>\n",
       "      <td>0</td>\n",
       "      <td>0</td>\n",
       "      <td>0</td>\n",
       "      <td>0</td>\n",
       "      <td>0</td>\n",
       "      <td>0</td>\n",
       "      <td>0</td>\n",
       "      <td>0</td>\n",
       "      <td>1</td>\n",
       "      <td>0</td>\n",
       "    </tr>\n",
       "    <tr>\n",
       "      <th>4</th>\n",
       "      <td>0.101449</td>\n",
       "      <td>0.006825</td>\n",
       "      <td>0.825</td>\n",
       "      <td>7.37</td>\n",
       "      <td>10</td>\n",
       "      <td>0</td>\n",
       "      <td>0</td>\n",
       "      <td>0</td>\n",
       "      <td>0</td>\n",
       "      <td>0</td>\n",
       "      <td>...</td>\n",
       "      <td>0</td>\n",
       "      <td>0</td>\n",
       "      <td>1</td>\n",
       "      <td>0</td>\n",
       "      <td>0</td>\n",
       "      <td>0</td>\n",
       "      <td>0</td>\n",
       "      <td>0</td>\n",
       "      <td>1</td>\n",
       "      <td>0</td>\n",
       "    </tr>\n",
       "  </tbody>\n",
       "</table>\n",
       "<p>5 rows × 62 columns</p>\n",
       "</div>"
      ],
      "text/plain": [
       "   loan_amnt  annual_inc  revol_util    dti  open_acc  inq_last_6mths  \\\n",
       "0   1.000000    0.017665       0.064   1.06        10               0   \n",
       "1   0.260870    0.008326       0.853  17.69         6               1   \n",
       "2   0.095652    0.007158       0.393  22.52        10               3   \n",
       "3   0.344928    0.010161       0.775   6.26        11               3   \n",
       "4   0.101449    0.006825       0.825   7.37        10               0   \n",
       "\n",
       "   sub_grade_A1  sub_grade_A2  sub_grade_A3  sub_grade_A4  ...  \\\n",
       "0             0             0             0             0  ...   \n",
       "1             0             0             0             0  ...   \n",
       "2             0             0             1             0  ...   \n",
       "3             0             0             0             0  ...   \n",
       "4             0             0             0             0  ...   \n",
       "\n",
       "   purpose_medical  purpose_moving  purpose_other  purpose_renewable_energy  \\\n",
       "0                0               0              0                         0   \n",
       "1                0               0              1                         0   \n",
       "2                0               0              0                         0   \n",
       "3                0               0              0                         0   \n",
       "4                0               0              1                         0   \n",
       "\n",
       "   purpose_small_business  purpose_vacation  purpose_wedding  \\\n",
       "0                       1                 0                0   \n",
       "1                       0                 0                0   \n",
       "2                       0                 0                0   \n",
       "3                       0                 0                0   \n",
       "4                       0                 0                0   \n",
       "\n",
       "   verification_status_Not Verified  verification_status_Source Verified  \\\n",
       "0                                 0                                    0   \n",
       "1                                 0                                    0   \n",
       "2                                 0                                    1   \n",
       "3                                 0                                    1   \n",
       "4                                 0                                    1   \n",
       "\n",
       "   verification_status_Verified  \n",
       "0                             1  \n",
       "1                             1  \n",
       "2                             0  \n",
       "3                             0  \n",
       "4                             0  \n",
       "\n",
       "[5 rows x 62 columns]"
      ]
     },
     "execution_count": 9,
     "metadata": {},
     "output_type": "execute_result"
    }
   ],
   "source": [
    "X_original_train.head()"
   ]
  },
  {
   "cell_type": "code",
   "execution_count": 10,
   "metadata": {},
   "outputs": [],
   "source": [
    "# same data process to test data set, \n",
    "# using pad method to fill null value of only one missing value in revol_util feature\n",
    "df_test = df_test_original[useful_columns]\n",
    "df_test = df_test[useful_columns].fillna(method='pad')\n",
    "y_test = df_test['loan_status'].replace(dic)\n",
    "X_test = pd.get_dummies(df_test[parameters])\n",
    "X_test['loan_amnt'] = (X_test['loan_amnt'] - loan_amnt_min)/(loan_amnt_max - loan_amnt_min)\n",
    "X_test['annual_inc'] = (X_test['annual_inc'] - annul_inc_min)/(annul_inc_max - annul_inc_min)"
   ]
  },
  {
   "cell_type": "code",
   "execution_count": 11,
   "metadata": {},
   "outputs": [],
   "source": [
    "# import Random Forest classifier\n",
    "# import three resample process methods\n",
    "from sklearn.ensemble import RandomForestClassifier\n",
    "from sklearn.model_selection import train_test_split\n",
    "from imblearn.over_sampling import RandomOverSampler, SMOTE, ADASYN\n",
    "from imblearn.under_sampling import RandomUnderSampler, NearMiss, EditedNearestNeighbours\n",
    "ros = RandomOverSampler(random_state=0)\n",
    "sms = SMOTE()\n",
    "ads = ADASYN()\n",
    "rus = RandomUnderSampler()\n",
    "nms = NearMiss(version=1)\n",
    "enns = EditedNearestNeighbours()"
   ]
  },
  {
   "cell_type": "code",
   "execution_count": 12,
   "metadata": {},
   "outputs": [
    {
     "data": {
      "text/plain": [
       "0.8273001508295625"
      ]
     },
     "execution_count": 12,
     "metadata": {},
     "output_type": "execute_result"
    }
   ],
   "source": [
    "# default training and acurracy result\n",
    "rf0 = RandomForestClassifier(random_state=10)\n",
    "rf0.fit(X_original_train, Y_original_train)\n",
    "rf0.score(X_test, y_test)"
   ]
  },
  {
   "cell_type": "code",
   "execution_count": 13,
   "metadata": {},
   "outputs": [
    {
     "data": {
      "text/plain": [
       "0.5069371713208486"
      ]
     },
     "execution_count": 13,
     "metadata": {},
     "output_type": "execute_result"
    }
   ],
   "source": [
    "# default training and AUC-ROC result\n",
    "y_pred = rf0.predict(X_test)\n",
    "metrics.roc_auc_score(y_test, y_pred)"
   ]
  },
  {
   "cell_type": "code",
   "execution_count": 14,
   "metadata": {
    "scrolled": false
   },
   "outputs": [
    {
     "data": {
      "image/png": "[encoded data removed]",
      "text/plain": [
       "<Figure size 432x288 with 2 Axes>"
      ]
     },
     "metadata": {
      "needs_background": "light"
     },
     "output_type": "display_data"
    }
   ],
   "source": [
    "# confusion matrix display\n",
    "disp = plot_confusion_matrix(rf0, X_test, y_test, cmap=plt.cm.Blues, normalize='true')"
   ]
  },
  {
   "cell_type": "code",
   "execution_count": 15,
   "metadata": {},
   "outputs": [
    {
     "data": {
      "text/plain": [
       "<Figure size 432x288 with 0 Axes>"
      ]
     },
     "metadata": {},
     "output_type": "display_data"
    },
    {
     "data": {
      "image/png": "[encoded data removed]",
      "text/plain": [
       "<Figure size 720x720 with 1 Axes>"
      ]
     },
     "metadata": {
      "needs_background": "light"
     },
     "output_type": "display_data"
    }
   ],
   "source": [
    "# AUC-ROC curve display\n",
    "fpr, tpr, thresholds = roc_curve(y_test, y_pred)\n",
    "roc_auc = auc(fpr, tpr)\n",
    "plt.figure()\n",
    "lw = 2\n",
    "plt.figure(figsize=(10,10))\n",
    "plt.plot(fpr, tpr, color='darkorange',\n",
    "         lw=lw, label='ROC curve (area = %0.2f)' % roc_auc)\n",
    "plt.plot([0, 1], [0, 1], color='navy', lw=lw, linestyle='--')\n",
    "plt.xlim([0.0, 1.0])\n",
    "plt.ylim([0.0, 1.05])\n",
    "plt.xlabel('False Positive Rate')\n",
    "plt.ylabel('True Positive Rate')\n",
    "plt.title('Original ROC')\n",
    "plt.legend(loc=\"lower right\")\n",
    "plt.show()"
   ]
  },
  {
   "cell_type": "markdown",
   "metadata": {},
   "source": [
    "## 2. Over Resample and Under Resample"
   ]
  },
  {
   "cell_type": "code",
   "execution_count": 16,
   "metadata": {},
   "outputs": [],
   "source": [
    "# prototype function for each resample method\n",
    "def resample_result(model, x, y, x_test, y_test):\n",
    "    X_train, y_train = model.fit_resample(x, y)\n",
    "    Xtrain, Xtest, ytrain, ytest = train_test_split(X_train, y_train)\n",
    "    rf = RandomForestClassifier(random_state=10)\n",
    "    rf.fit(Xtrain, ytrain)\n",
    "    print(\"Accuracy: \", rf.score(x_test, y_test))\n",
    "    y_pred = rf.predict(X_test)\n",
    "    print(\"Roc_auc: \", metrics.roc_auc_score(y_test, y_pred))\n",
    "    disp = plot_confusion_matrix(rf, x_test, y_test, cmap=plt.cm.Blues, normalize='true')"
   ]
  },
  {
   "cell_type": "code",
   "execution_count": 17,
   "metadata": {
    "scrolled": true
   },
   "outputs": [
    {
     "name": "stdout",
     "output_type": "stream",
     "text": [
      "Accuracy:  0.8109602815485168\n",
      "Roc_auc:  0.5452402482131629\n"
     ]
    },
    {
     "data": {
      "image/png": "[encoded data removed]",
      "text/plain": [
       "<Figure size 432x288 with 2 Axes>"
      ]
     },
     "metadata": {
      "needs_background": "light"
     },
     "output_type": "display_data"
    }
   ],
   "source": [
    "# Random Over Sampling\n",
    "resample_result(ros, X_original_train, Y_original_train, X_test, y_test)"
   ]
  },
  {
   "cell_type": "code",
   "execution_count": 18,
   "metadata": {},
   "outputs": [
    {
     "name": "stdout",
     "output_type": "stream",
     "text": [
      "Accuracy:  0.8086978381096028\n",
      "Roc_auc:  0.5363303910046057\n"
     ]
    },
    {
     "data": {
      "image/png": "[encoded data removed]",
      "text/plain": [
       "<Figure size 432x288 with 2 Axes>"
      ]
     },
     "metadata": {
      "needs_background": "light"
     },
     "output_type": "display_data"
    }
   ],
   "source": [
    "# SMOTE\n",
    "resample_result(sms, X_original_train, Y_original_train, X_test, y_test)"
   ]
  },
  {
   "cell_type": "code",
   "execution_count": 19,
   "metadata": {},
   "outputs": [
    {
     "name": "stdout",
     "output_type": "stream",
     "text": [
      "Accuracy:  0.8137254901960784\n",
      "Roc_auc:  0.5382046536635436\n"
     ]
    },
    {
     "data": {
      "image/png": "[encoded data removed]",
      "text/plain": [
       "<Figure size 432x288 with 2 Axes>"
      ]
     },
     "metadata": {
      "needs_background": "light"
     },
     "output_type": "display_data"
    }
   ],
   "source": [
    "# ADASYN\n",
    "resample_result(ads, X_original_train, Y_original_train, X_test, y_test)"
   ]
  },
  {
   "cell_type": "code",
   "execution_count": 20,
   "metadata": {},
   "outputs": [
    {
     "name": "stdout",
     "output_type": "stream",
     "text": [
      "Accuracy:  0.5824534942182001\n",
      "Roc_auc:  0.6185402257735555\n"
     ]
    },
    {
     "data": {
      "image/png": "[encoded data removed]",
      "text/plain": [
       "<Figure size 432x288 with 2 Axes>"
      ]
     },
     "metadata": {
      "needs_background": "light"
     },
     "output_type": "display_data"
    }
   ],
   "source": [
    "# Random Under Sampling\n",
    "resample_result(rus, X_original_train, Y_original_train, X_test, y_test)"
   ]
  },
  {
   "cell_type": "code",
   "execution_count": 21,
   "metadata": {},
   "outputs": [
    {
     "name": "stdout",
     "output_type": "stream",
     "text": [
      "Accuracy:  0.4034690799396682\n",
      "Roc_auc:  0.5354514693499401\n"
     ]
    },
    {
     "data": {
      "image/png": "[encoded data removed]",
      "text/plain": [
       "<Figure size 432x288 with 2 Axes>"
      ]
     },
     "metadata": {
      "needs_background": "light"
     },
     "output_type": "display_data"
    }
   ],
   "source": [
    "# NearMiss-1\n",
    "resample_result(nms, X_original_train, Y_original_train, X_test, y_test)"
   ]
  },
  {
   "cell_type": "code",
   "execution_count": 22,
   "metadata": {},
   "outputs": [
    {
     "name": "stdout",
     "output_type": "stream",
     "text": [
      "Accuracy:  0.8051784816490699\n",
      "Roc_auc:  0.5585793728907325\n"
     ]
    },
    {
     "data": {
      "image/png": "[encoded data removed]",
      "text/plain": [
       "<Figure size 432x288 with 2 Axes>"
      ]
     },
     "metadata": {
      "needs_background": "light"
     },
     "output_type": "display_data"
    }
   ],
   "source": [
    "# Edited Nearest Neighbors\n",
    "resample_result(enns, X_original_train, Y_original_train, X_test, y_test)"
   ]
  },
  {
   "cell_type": "markdown",
   "metadata": {},
   "source": [
    "## 3.1 Random Over Sample"
   ]
  },
  {
   "cell_type": "code",
   "execution_count": 23,
   "metadata": {},
   "outputs": [],
   "source": [
    "# using Grid Search Method to tuning parameters\n",
    "# random selection part of training data to tuning\n",
    "from sklearn.model_selection import GridSearchCV\n",
    "X_train, y_train = ros.fit_resample(X_original_train, Y_original_train)\n",
    "Xtrain, Xtest, ytrain, ytest = train_test_split(X_train, y_train)"
   ]
  },
  {
   "cell_type": "code",
   "execution_count": 24,
   "metadata": {},
   "outputs": [
    {
     "data": {
      "text/plain": [
       "({'n_estimators': 70}, 0.7049828745164634)"
      ]
     },
     "execution_count": 24,
     "metadata": {},
     "output_type": "execute_result"
    }
   ],
   "source": [
    "# tuning n_estimators\n",
    "param_test1 = {'n_estimators': range(10, 71, 10)}\n",
    "gsearch1 = GridSearchCV(estimator=RandomForestClassifier(min_samples_split=100,\n",
    "                                                        min_samples_leaf=20,\n",
    "                                                        max_depth=8,\n",
    "                                                        max_features='sqrt',\n",
    "                                                        random_state=10),\n",
    "                       param_grid=param_test1, scoring='roc_auc', cv=5, n_jobs=4)\n",
    "gsearch1.fit(Xtrain, ytrain)\n",
    "gsearch1.best_params_, gsearch1.best_score_"
   ]
  },
  {
   "cell_type": "code",
   "execution_count": 28,
   "metadata": {},
   "outputs": [
    {
     "data": {
      "text/plain": [
       "({'max_depth': 13, 'min_samples_split': 50}, 0.7071740643350222)"
      ]
     },
     "execution_count": 28,
     "metadata": {},
     "output_type": "execute_result"
    }
   ],
   "source": [
    "# tuning max_depth\n",
    "param_test2 = {'max_depth':range(3, 14, 2), 'min_samples_split':range(50, 201, 20)}\n",
    "gsearch2 = GridSearchCV(estimator=RandomForestClassifier(n_estimators=70,\n",
    "                                                        min_samples_leaf=20,\n",
    "                                                        max_features='sqrt',\n",
    "                                                        random_state=10,\n",
    "                                                        ),\n",
    "                       param_grid=param_test2, scoring='roc_auc', cv=5, n_jobs=4)\n",
    "gsearch2.fit(Xtrain, ytrain)\n",
    "gsearch2.best_params_, gsearch1.best_score_"
   ]
  },
  {
   "cell_type": "code",
   "execution_count": 29,
   "metadata": {},
   "outputs": [
    {
     "data": {
      "text/plain": [
       "({'min_samples_leaf': 10, 'min_samples_split': 10}, 0.762481897416864)"
      ]
     },
     "execution_count": 29,
     "metadata": {},
     "output_type": "execute_result"
    }
   ],
   "source": [
    "# tuning min_samples_leaf and min_samples_split\n",
    "param_test3 = {'min_samples_split':range(10,90,20), 'min_samples_leaf':range(10,60,10)}\n",
    "gsearch3 = GridSearchCV(estimator = RandomForestClassifier(n_estimators= 70, max_depth=13,\n",
    "                                  max_features='sqrt', random_state=10),\n",
    "                        param_grid = param_test3, scoring='roc_auc', cv=5, n_jobs=4)\n",
    "gsearch3.fit(Xtrain, ytrain)\n",
    "gsearch3.best_params_, gsearch3.best_score_"
   ]
  },
  {
   "cell_type": "code",
   "execution_count": 30,
   "metadata": {},
   "outputs": [
    {
     "data": {
      "text/plain": [
       "({'max_features': 9}, 0.7752240457345134)"
      ]
     },
     "execution_count": 30,
     "metadata": {},
     "output_type": "execute_result"
    }
   ],
   "source": [
    "# tuning max_features\n",
    "param_test4 = {'max_features':range(3,11,2)}\n",
    "gsearch4 = GridSearchCV(estimator = RandomForestClassifier(n_estimators= 70, max_depth=13, min_samples_split=10,\n",
    "                                  min_samples_leaf=10, random_state=10),\n",
    "   param_grid = param_test4, scoring='roc_auc', cv=5, n_jobs=4)\n",
    "gsearch4.fit(Xtrain, ytrain)\n",
    "gsearch4.best_params_, gsearch4.best_score_"
   ]
  },
  {
   "cell_type": "code",
   "execution_count": 32,
   "metadata": {},
   "outputs": [
    {
     "name": "stdout",
     "output_type": "stream",
     "text": [
      "Accuracy: 0.6370035193564605\n"
     ]
    }
   ],
   "source": [
    "# fit data and display result\n",
    "rf2 = RandomForestClassifier(n_estimators= 70, max_depth=13, min_samples_split=10,\n",
    "                                  min_samples_leaf=10, max_features=9, random_state=10)\n",
    "rf2.fit(Xtrain, ytrain)\n",
    "print(\"Accuracy:\", rf2.score(X_test, y_test))"
   ]
  },
  {
   "cell_type": "code",
   "execution_count": 33,
   "metadata": {},
   "outputs": [
    {
     "name": "stdout",
     "output_type": "stream",
     "text": [
      "AUC-ROC:  0.6421837959373202\n"
     ]
    }
   ],
   "source": [
    "y_pred = rf2.predict(X_test)\n",
    "print(\"AUC-ROC: \", metrics.roc_auc_score(y_test, y_pred))"
   ]
  },
  {
   "cell_type": "code",
   "execution_count": 34,
   "metadata": {},
   "outputs": [
    {
     "data": {
      "image/png": "[encoded data removed]",
      "text/plain": [
       "<Figure size 432x288 with 2 Axes>"
      ]
     },
     "metadata": {
      "needs_background": "light"
     },
     "output_type": "display_data"
    }
   ],
   "source": [
    "# display confusion matrix\n",
    "disp = plot_confusion_matrix(rf2, X_test, y_test, cmap=plt.cm.Blues, normalize='true')"
   ]
  },
  {
   "cell_type": "markdown",
   "metadata": {},
   "source": [
    "## 3.2 Random Under Sampling (same process above)"
   ]
  },
  {
   "cell_type": "code",
   "execution_count": 25,
   "metadata": {},
   "outputs": [],
   "source": [
    "X_train, y_train = rus.fit_resample(X_original_train, Y_original_train)\n",
    "Xtrain, Xtest, ytrain, ytest = train_test_split(X_train, y_train)"
   ]
  },
  {
   "cell_type": "code",
   "execution_count": 26,
   "metadata": {},
   "outputs": [
    {
     "data": {
      "text/plain": [
       "({'n_estimators': 70}, 0.6788839497144867)"
      ]
     },
     "execution_count": 26,
     "metadata": {},
     "output_type": "execute_result"
    }
   ],
   "source": [
    "param_test1 = {'n_estimators': range(10, 71, 10)}\n",
    "gsearch1 = GridSearchCV(estimator=RandomForestClassifier(min_samples_split=100,\n",
    "                                                        min_samples_leaf=20,\n",
    "                                                        max_depth=8,\n",
    "                                                        max_features='sqrt',\n",
    "                                                        random_state=10),\n",
    "                       param_grid=param_test1, scoring='roc_auc', cv=5, n_jobs=4)\n",
    "gsearch1.fit(Xtrain, ytrain)\n",
    "gsearch1.best_params_, gsearch1.best_score_"
   ]
  },
  {
   "cell_type": "code",
   "execution_count": 27,
   "metadata": {},
   "outputs": [
    {
     "data": {
      "text/plain": [
       "({'max_depth': 13, 'min_samples_split': 150}, 0.6788839497144867)"
      ]
     },
     "execution_count": 27,
     "metadata": {},
     "output_type": "execute_result"
    }
   ],
   "source": [
    "param_test2 = {'max_depth':range(3, 14, 2), 'min_samples_split':range(50, 201, 20)}\n",
    "gsearch2 = GridSearchCV(estimator=RandomForestClassifier(n_estimators=70,\n",
    "                                                        min_samples_leaf=20,\n",
    "                                                        max_features='sqrt',\n",
    "                                                        random_state=10,\n",
    "                                                        ),\n",
    "                       param_grid=param_test2, scoring='roc_auc', cv=5, n_jobs=4)\n",
    "gsearch2.fit(Xtrain, ytrain)\n",
    "gsearch2.best_params_, gsearch1.best_score_"
   ]
  },
  {
   "cell_type": "code",
   "execution_count": 29,
   "metadata": {},
   "outputs": [
    {
     "data": {
      "text/plain": [
       "({'min_samples_leaf': 10, 'min_samples_split': 150}, 0.6826609159702903)"
      ]
     },
     "execution_count": 29,
     "metadata": {},
     "output_type": "execute_result"
    }
   ],
   "source": [
    "param_test3 = {'min_samples_split':range(110,190,20), 'min_samples_leaf':range(10,60,10)}\n",
    "gsearch3 = GridSearchCV(estimator = RandomForestClassifier(n_estimators= 70, max_depth=13,\n",
    "                                  max_features='sqrt', random_state=10),\n",
    "                        param_grid = param_test3, scoring='roc_auc', cv=5, n_jobs=4)\n",
    "gsearch3.fit(Xtrain, ytrain)\n",
    "gsearch3.best_params_, gsearch3.best_score_"
   ]
  },
  {
   "cell_type": "code",
   "execution_count": 30,
   "metadata": {},
   "outputs": [
    {
     "data": {
      "text/plain": [
       "({'max_features': 7}, 0.6826609159702903)"
      ]
     },
     "execution_count": 30,
     "metadata": {},
     "output_type": "execute_result"
    }
   ],
   "source": [
    "param_test4 = {'max_features':range(3,11,2)}\n",
    "gsearch4 = GridSearchCV(estimator = RandomForestClassifier(n_estimators= 70, max_depth=13, min_samples_split=150,\n",
    "                                  min_samples_leaf=10, random_state=10),\n",
    "   param_grid = param_test4, scoring='roc_auc', cv=5, n_jobs=4)\n",
    "gsearch4.fit(Xtrain, ytrain)\n",
    "gsearch4.best_params_, gsearch4.best_score_"
   ]
  },
  {
   "cell_type": "code",
   "execution_count": 31,
   "metadata": {},
   "outputs": [
    {
     "data": {
      "text/plain": [
       "0.6191553544494721"
      ]
     },
     "execution_count": 31,
     "metadata": {},
     "output_type": "execute_result"
    }
   ],
   "source": [
    "rf3 = RandomForestClassifier(n_estimators= 70, max_depth=13, min_samples_split=150,\n",
    "                                  min_samples_leaf=10, max_features=7, random_state=10)\n",
    "rf3.fit(Xtrain, ytrain)\n",
    "rf3.score(X_test, y_test)"
   ]
  },
  {
   "cell_type": "code",
   "execution_count": 32,
   "metadata": {},
   "outputs": [
    {
     "data": {
      "text/plain": [
       "0.6505604347507316"
      ]
     },
     "execution_count": 32,
     "metadata": {},
     "output_type": "execute_result"
    }
   ],
   "source": [
    "y_pred = rf3.predict(X_test)\n",
    "metrics.roc_auc_score(y_test, y_pred)"
   ]
  },
  {
   "cell_type": "code",
   "execution_count": 33,
   "metadata": {
    "scrolled": true
   },
   "outputs": [
    {
     "data": {
      "image/png": "[encoded data removed]",
      "text/plain": [
       "<Figure size 432x288 with 2 Axes>"
      ]
     },
     "metadata": {
      "needs_background": "light"
     },
     "output_type": "display_data"
    }
   ],
   "source": [
    "disp = plot_confusion_matrix(rf3, X_test, y_test, cmap=plt.cm.Blues, normalize='true')"
   ]
  },
  {
   "cell_type": "markdown",
   "metadata": {},
   "source": [
    "## 4. Ensemble Model"
   ]
  },
  {
   "cell_type": "code",
   "execution_count": 34,
   "metadata": {},
   "outputs": [],
   "source": [
    "# ensemble models into list\n",
    "ensemble_model = []\n",
    "for i in range(11):\n",
    "    X_train, y_train = rus.fit_resample(X_original_train, Y_original_train)\n",
    "    Xtrain, Xtest, ytrain, ytest = train_test_split(X_train, y_train)\n",
    "    under_sample_model = RandomForestClassifier(n_estimators= 70,\n",
    "                                                max_depth=13,\n",
    "                                                min_samples_split=150,\n",
    "                                                min_samples_leaf=10,\n",
    "                                                max_features=7,\n",
    "                                                random_state=10)\n",
    "    under_sample_model.fit(Xtrain, ytrain)\n",
    "    ensemble_model.append(under_sample_model)\n",
    "    \n",
    "    X_train, y_train = ros.fit_resample(X_original_train, Y_original_train)\n",
    "    Xtrain, Xtest, ytrain, ytest = train_test_split(X_train, y_train)\n",
    "    over_sample_model = RandomForestClassifier(n_estimators=70,\n",
    "                                               max_depth=13,\n",
    "                                               min_samples_split=10,\n",
    "                                               min_samples_leaf=10,\n",
    "                                               max_features=9,\n",
    "                                               random_state=10)\n",
    "    over_sample_model.fit(Xtrain, ytrain)\n",
    "    ensemble_model.append(over_sample_model)"
   ]
  },
  {
   "cell_type": "code",
   "execution_count": 35,
   "metadata": {},
   "outputs": [
    {
     "name": "stdout",
     "output_type": "stream",
     "text": [
      "Acurracy:  0.6085972850678733\n"
     ]
    }
   ],
   "source": [
    "# using ensemble model to predict\n",
    "results = []\n",
    "for model in ensemble_model:\n",
    "    y_pred = model.predict(X_test)\n",
    "    results.append(y_pred)\n",
    "\n",
    "y_ensemble_result = []\n",
    "for i in range(len(results[0])):\n",
    "    y_single_pred = 0\n",
    "    for j in range(len(results)):\n",
    "        y_single_pred = y_single_pred + results[j][i]\n",
    "    y_ensemble_result.append(y_single_pred > 6)\n",
    "print(\"Acurracy: \", y_ensemble_result.count(1)/len(y_ensemble_result))"
   ]
  },
  {
   "cell_type": "code",
   "execution_count": 36,
   "metadata": {},
   "outputs": [
    {
     "data": {
      "text/plain": [
       "<Figure size 432x288 with 0 Axes>"
      ]
     },
     "metadata": {},
     "output_type": "display_data"
    },
    {
     "data": {
      "image/png": "[encoded data removed]",
      "text/plain": [
       "<Figure size 720x720 with 1 Axes>"
      ]
     },
     "metadata": {
      "needs_background": "light"
     },
     "output_type": "display_data"
    }
   ],
   "source": [
    "fpr, tpr, thresholds = roc_curve(y_test, y_ensemble_result)\n",
    "roc_auc = auc(fpr, tpr)\n",
    "plt.figure()\n",
    "lw = 2\n",
    "plt.figure(figsize=(10,10))\n",
    "plt.plot(fpr, tpr, color='darkorange',\n",
    "         lw=lw, label='ROC curve (area = %0.2f)' % roc_auc) ###假正率为横坐标，真正率为纵坐标做曲线\n",
    "plt.plot([0, 1], [0, 1], color='navy', lw=lw, linestyle='--')\n",
    "plt.xlim([0.0, 1.0])\n",
    "plt.ylim([0.0, 1.05])\n",
    "plt.xlabel('False Positive Rate')\n",
    "plt.ylabel('True Positive Rate')\n",
    "plt.title('Original ROC')\n",
    "plt.legend(loc=\"lower right\")\n",
    "plt.show()"
   ]
  }
 ],
 "metadata": {
  "kernelspec": {
   "display_name": "Python 3",
   "language": "python",
   "name": "python3"
  },
  "language_info": {
   "codemirror_mode": {
    "name": "ipython",
    "version": 3
   },
   "file_extension": ".py",
   "mimetype": "text/x-python",
   "name": "python",
   "nbconvert_exporter": "python",
   "pygments_lexer": "ipython3",
   "version": "3.7.4"
  }
 },
 "nbformat": 4,
 "nbformat_minor": 2
}
